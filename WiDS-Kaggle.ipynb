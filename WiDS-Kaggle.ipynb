{
 "cells": [
  {
   "cell_type": "code",
   "execution_count": 2,
   "metadata": {},
   "outputs": [],
   "source": [
    "import pandas as pd\n",
    "info = pd.read_csv(\"WiDS Datathon 2020 Dictionary.csv\")"
   ]
  },
  {
   "cell_type": "markdown",
   "metadata": {},
   "source": [
    "# Dropping Unimportant Columns"
   ]
  },
  {
   "cell_type": "code",
   "execution_count": null,
   "metadata": {},
   "outputs": [],
   "source": [
    "drop_cols = ['encounter_id','patient_id','icu_id', 'hospital_id', 'readmission_status']\n",
    "drop_cols_test = ['encounter_id','patient_id','icu_id','hospital_death','hospital_id', 'readmission_status']\n",
    "\n",
    "train = pd.read_csv(\"training_v2.csv\").drop(drop_cols, axis=1)\n",
    "test = pd.read_csv(\"unlabeled.csv\").drop(drop_cols_test, axis=1)"
   ]
  },
  {
   "cell_type": "code",
   "execution_count": null,
   "metadata": {},
   "outputs": [],
   "source": [
    "target = \"hospital_death\""
   ]
  },
  {
   "cell_type": "code",
   "execution_count": null,
   "metadata": {},
   "outputs": [],
   "source": [
    "print(f'Rows in train data : {train.shape[0]} and columns in train data: {train.shape[1]}')\n",
    "print(f'Rows in test data  : {test.shape[0]} and columns in train data: {test.shape[1]}')"
   ]
  },
  {
   "cell_type": "markdown",
   "metadata": {},
   "source": [
    "# Data Cleaning - Fill in NA/empty data"
   ]
  },
  {
   "cell_type": "code",
   "execution_count": null,
   "metadata": {},
   "outputs": [],
   "source": [
    "train['age'].fillna(train['age'].mean(), inplace = True)\n",
    "train['bmi'].fillna(train['bmi'].median(), inplace = True)\n",
    "train['ethnicity'].fillna(train['ethnicity'].mode()[0], inplace = True)\n",
    "train['weight'].fillna(train['weight'].median(), inplace = True)\n",
    "train['height'].fillna(train['height'].median(), inplace = True)\n",
    "train['gender'].fillna(train['gender'].mode()[0], inplace = True)"
   ]
  },
  {
   "cell_type": "code",
   "execution_count": null,
   "metadata": {},
   "outputs": [],
   "source": [
    "for i in range(41,169,1):\n",
    "    train.iloc[:,i] = train.iloc[:,i].fillna(0)"
   ]
  },
  {
   "cell_type": "code",
   "execution_count": null,
   "metadata": {},
   "outputs": [],
   "source": [
    "cols2 = train.isna().sum().reset_index()[\"index\"]\n",
    "val2 = train.isna().sum().reset_index()[0]"
   ]
  },
  {
   "cell_type": "code",
   "execution_count": null,
   "metadata": {},
   "outputs": [],
   "source": [
    "for c, v in zip(cols2, val2):\n",
    "    print(c, v)"
   ]
  },
  {
   "cell_type": "code",
   "execution_count": null,
   "metadata": {},
   "outputs": [],
   "source": [
    "test['age'].fillna(test['age'].mean(), inplace = True)\n",
    "test['bmi'].fillna(test['bmi'].median(), inplace = True)\n",
    "test['ethnicity'].fillna(test['ethnicity'].mode()[0], inplace = True)\n",
    "test['weight'].fillna(test['weight'].median(), inplace = True)\n",
    "test['height'].fillna(test['height'].median(), inplace = True)\n",
    "test['gender'].fillna(test['gender'].mode()[0], inplace = True)"
   ]
  },
  {
   "cell_type": "code",
   "execution_count": null,
   "metadata": {},
   "outputs": [],
   "source": [
    "for i in range(41,169,1):\n",
    "    test.iloc[:,i] = test.iloc[:,i].fillna(0)"
   ]
  },
  {
   "cell_type": "code",
   "execution_count": null,
   "metadata": {},
   "outputs": [],
   "source": [
    "cat_cols = ['gcs_verbal_apache',\n",
    "     'icu_admit_source',\n",
    "     'icu_type',\n",
    "     'icu_stay_type',\n",
    "     'ethnicity',\n",
    "     'gender',\n",
    "     'apache_2_bodysystem',\n",
    "     'gcs_eyes_apache',\n",
    "     'gcs_motor_apache',\n",
    "     'apache_3j_bodysystem']"
   ]
  },
  {
   "cell_type": "code",
   "execution_count": 51,
   "metadata": {},
   "outputs": [],
   "source": [
    "for col in cat_cols:\n",
    "    train[col] = pd.get_dummies(train[[col]])\n",
    "    test[col] = pd.get_dummies(test[[col]])"
   ]
  },
  {
   "cell_type": "markdown",
   "metadata": {},
   "source": [
    "# Training Model"
   ]
  },
  {
   "cell_type": "code",
   "execution_count": 52,
   "metadata": {},
   "outputs": [],
   "source": [
    "import numpy as np\n",
    "from sklearn.impute import SimpleImputer\n",
    "from sklearn.metrics import accuracy_score\n",
    "from sklearn.model_selection import train_test_split\n",
    "from sklearn.ensemble import RandomForestClassifier, GradientBoostingClassifier, VotingClassifier"
   ]
  },
  {
   "cell_type": "code",
   "execution_count": 53,
   "metadata": {},
   "outputs": [],
   "source": [
    "train = train.dropna()\n",
    "y = train[target]\n",
    "X = train.drop(['hospital_admit_source'], axis=1)\n",
    "X = X.drop(target, axis=1)\n",
    "\n",
    "X_train, valid_features, Y_train, valid_y = train_test_split(X, y, test_size = 0.25, random_state = 1)"
   ]
  },
  {
   "cell_type": "code",
   "execution_count": 54,
   "metadata": {},
   "outputs": [],
   "source": [
    "gradient_boost = GradientBoostingClassifier(random_state=1)\n",
    "random_forest = RandomForestClassifier(n_estimators=100)\n",
    "\n",
    "voting = VotingClassifier(estimators=[('rfc', random_forest),('gbc', gradient_boost)], voting='soft')\n",
    "voting = voting.fit(X_train, Y_train)\n",
    "predict_y = voting.predict(valid_features)"
   ]
  },
  {
   "cell_type": "code",
   "execution_count": 55,
   "metadata": {},
   "outputs": [],
   "source": [
    "test = test.dropna()\n",
    "test = test.drop(['hospital_admit_source'], axis=1)\n",
    "test_copy = test.copy()\n",
    "test_copy[\"hospital_death\"] = voting.predict(test)\n",
    "\n",
    "# test_copy[[\"encounter_id\",\"hospital_death\"]].to_csv(\"submission1.csv\",index=False)\n",
    "# test_copy[[\"encounter_id\",\"hospital_death\"]].head()"
   ]
  },
  {
   "cell_type": "code",
   "execution_count": 1,
   "metadata": {},
   "outputs": [
    {
     "ename": "NameError",
     "evalue": "name 'test_copy' is not defined",
     "output_type": "error",
     "traceback": [
      "\u001b[0;31m---------------------------------------------------------------------------\u001b[0m",
      "\u001b[0;31mNameError\u001b[0m                                 Traceback (most recent call last)",
      "\u001b[0;32m<ipython-input-1-6638d6cbed16>\u001b[0m in \u001b[0;36m<module>\u001b[0;34m\u001b[0m\n\u001b[0;32m----> 1\u001b[0;31m \u001b[0mtest_copy\u001b[0m\u001b[0;34m[\u001b[0m\u001b[0;34m'hospital_death'\u001b[0m\u001b[0;34m]\u001b[0m\u001b[0;34m.\u001b[0m\u001b[0mto_csv\u001b[0m\u001b[0;34m(\u001b[0m\u001b[0;34m\"submission1.csv\"\u001b[0m\u001b[0;34m,\u001b[0m \u001b[0mindex\u001b[0m\u001b[0;34m=\u001b[0m\u001b[0;32mTrue\u001b[0m\u001b[0;34m,\u001b[0m \u001b[0mindex_label\u001b[0m\u001b[0;34m=\u001b[0m\u001b[0;34m'encounter_id'\u001b[0m\u001b[0;34m)\u001b[0m\u001b[0;34m\u001b[0m\u001b[0;34m\u001b[0m\u001b[0m\n\u001b[0m",
      "\u001b[0;31mNameError\u001b[0m: name 'test_copy' is not defined"
     ]
    }
   ],
   "source": [
    "test_copy['hospital_death'].to_csv(\"submission1.csv\", index=True, index_label='encounter_id')"
   ]
  },
  {
   "cell_type": "code",
   "execution_count": null,
   "metadata": {},
   "outputs": [],
   "source": []
  },
  {
   "cell_type": "code",
   "execution_count": null,
   "metadata": {},
   "outputs": [],
   "source": []
  }
 ],
 "metadata": {
  "kernelspec": {
   "display_name": "Python 3",
   "language": "python",
   "name": "python3"
  },
  "language_info": {
   "codemirror_mode": {
    "name": "ipython",
    "version": 3
   },
   "file_extension": ".py",
   "mimetype": "text/x-python",
   "name": "python",
   "nbconvert_exporter": "python",
   "pygments_lexer": "ipython3",
   "version": "3.7.3"
  }
 },
 "nbformat": 4,
 "nbformat_minor": 2
}
