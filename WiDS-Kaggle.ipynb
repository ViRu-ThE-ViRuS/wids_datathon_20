{
 "cells": [
  {
   "cell_type": "code",
   "execution_count": 1,
   "metadata": {},
   "outputs": [
    {
     "name": "stdout",
     "output_type": "stream",
     "text": [
      "Requirement already satisfied: pandas in /Users/viraat-chandra/Workspace/venv/lib/python3.7/site-packages (1.0.1)\n",
      "Requirement already satisfied: pytz>=2017.2 in /Users/viraat-chandra/Workspace/venv/lib/python3.7/site-packages (from pandas) (2019.3)\n",
      "Requirement already satisfied: numpy>=1.13.3 in /Users/viraat-chandra/Workspace/venv/lib/python3.7/site-packages (from pandas) (1.18.1)\n",
      "Requirement already satisfied: python-dateutil>=2.6.1 in /Users/viraat-chandra/Workspace/venv/lib/python3.7/site-packages (from pandas) (2.8.1)\n",
      "Requirement already satisfied: six>=1.5 in /Users/viraat-chandra/Workspace/venv/lib/python3.7/site-packages (from python-dateutil>=2.6.1->pandas) (1.14.0)\n",
      "Requirement already satisfied: sklearn in /Users/viraat-chandra/Workspace/venv/lib/python3.7/site-packages (0.0)\n",
      "Requirement already satisfied: scikit-learn in /Users/viraat-chandra/Workspace/venv/lib/python3.7/site-packages (from sklearn) (0.22.1)\n",
      "Requirement already satisfied: joblib>=0.11 in /Users/viraat-chandra/Workspace/venv/lib/python3.7/site-packages (from scikit-learn->sklearn) (0.14.1)\n",
      "Requirement already satisfied: numpy>=1.11.0 in /Users/viraat-chandra/Workspace/venv/lib/python3.7/site-packages (from scikit-learn->sklearn) (1.18.1)\n",
      "Requirement already satisfied: scipy>=0.17.0 in /Users/viraat-chandra/Workspace/venv/lib/python3.7/site-packages (from scikit-learn->sklearn) (1.4.1)\n"
     ]
    }
   ],
   "source": [
    "!pip install pandas\n",
    "!pip install sklearn"
   ]
  },
  {
   "cell_type": "code",
   "execution_count": 2,
   "metadata": {},
   "outputs": [],
   "source": [
    "import pandas as pd\n",
    "info = pd.read_csv(\"dataset/WiDS Datathon 2020 Dictionary.csv\")"
   ]
  },
  {
   "cell_type": "markdown",
   "metadata": {},
   "source": [
    "# Dropping Unimportant Columns"
   ]
  },
  {
   "cell_type": "code",
   "execution_count": 3,
   "metadata": {},
   "outputs": [],
   "source": [
    "drop_cols = ['encounter_id','patient_id','icu_id', 'hospital_id', 'readmission_status']\n",
    "drop_cols_test = ['encounter_id','patient_id','icu_id','hospital_death','hospital_id', 'readmission_status']\n",
    "\n",
    "train = pd.read_csv(\"dataset/training_v2.csv\").drop(drop_cols, axis=1)\n",
    "test = pd.read_csv(\"dataset/unlabeled.csv\").drop(drop_cols_test, axis=1)"
   ]
  },
  {
   "cell_type": "code",
   "execution_count": 4,
   "metadata": {},
   "outputs": [],
   "source": [
    "target = \"hospital_death\""
   ]
  },
  {
   "cell_type": "code",
   "execution_count": 5,
   "metadata": {},
   "outputs": [
    {
     "name": "stdout",
     "output_type": "stream",
     "text": [
      "Rows in train data : 91713 and columns in train data: 181\n",
      "Rows in test data  : 39308 and columns in train data: 180\n"
     ]
    }
   ],
   "source": [
    "print(f'Rows in train data : {train.shape[0]} and columns in train data: {train.shape[1]}')\n",
    "print(f'Rows in test data  : {test.shape[0]} and columns in train data: {test.shape[1]}')"
   ]
  },
  {
   "cell_type": "markdown",
   "metadata": {},
   "source": [
    "# Data Cleaning - Fill in NA/empty data"
   ]
  },
  {
   "cell_type": "code",
   "execution_count": 6,
   "metadata": {},
   "outputs": [],
   "source": [
    "train['age'].fillna(train['age'].mean(), inplace = True)\n",
    "train['bmi'].fillna(train['bmi'].median(), inplace = True)\n",
    "train['ethnicity'].fillna(train['ethnicity'].mode()[0], inplace = True)\n",
    "train['weight'].fillna(train['weight'].median(), inplace = True)\n",
    "train['height'].fillna(train['height'].median(), inplace = True)\n",
    "train['gender'].fillna(train['gender'].mode()[0], inplace = True)"
   ]
  },
  {
   "cell_type": "code",
   "execution_count": 7,
   "metadata": {},
   "outputs": [],
   "source": [
    "for i in range(41,169,1):\n",
    "    train.iloc[:,i] = train.iloc[:,i].fillna(0)"
   ]
  },
  {
   "cell_type": "code",
   "execution_count": 8,
   "metadata": {},
   "outputs": [],
   "source": [
    "cols2 = train.isna().sum().reset_index()[\"index\"]\n",
    "val2 = train.isna().sum().reset_index()[0]"
   ]
  },
  {
   "cell_type": "code",
   "execution_count": 9,
   "metadata": {},
   "outputs": [
    {
     "name": "stdout",
     "output_type": "stream",
     "text": [
      "hospital_death 0\n",
      "age 0\n",
      "bmi 0\n",
      "elective_surgery 0\n",
      "ethnicity 0\n",
      "gender 0\n",
      "height 0\n",
      "hospital_admit_source 21409\n",
      "icu_admit_source 112\n",
      "icu_stay_type 0\n",
      "icu_type 0\n",
      "pre_icu_los_days 0\n",
      "weight 0\n",
      "albumin_apache 54379\n",
      "apache_2_diagnosis 1662\n",
      "apache_3j_diagnosis 1101\n",
      "apache_post_operative 0\n",
      "arf_apache 715\n",
      "bilirubin_apache 58134\n",
      "bun_apache 19262\n",
      "creatinine_apache 18853\n",
      "fio2_apache 70868\n",
      "gcs_eyes_apache 1901\n",
      "gcs_motor_apache 1901\n",
      "gcs_unable_apache 1037\n",
      "gcs_verbal_apache 1901\n",
      "glucose_apache 11036\n",
      "heart_rate_apache 878\n",
      "hematocrit_apache 19878\n",
      "intubated_apache 715\n",
      "map_apache 994\n",
      "paco2_apache 70868\n",
      "paco2_for_ph_apache 70868\n",
      "pao2_apache 70868\n",
      "ph_apache 70868\n",
      "resprate_apache 1234\n",
      "sodium_apache 18600\n",
      "temp_apache 4108\n",
      "urineoutput_apache 48998\n",
      "ventilated_apache 715\n",
      "wbc_apache 22012\n",
      "d1_diasbp_invasive_max 0\n",
      "d1_diasbp_invasive_min 0\n",
      "d1_diasbp_max 0\n",
      "d1_diasbp_min 0\n",
      "d1_diasbp_noninvasive_max 0\n",
      "d1_diasbp_noninvasive_min 0\n",
      "d1_heartrate_max 0\n",
      "d1_heartrate_min 0\n",
      "d1_mbp_invasive_max 0\n",
      "d1_mbp_invasive_min 0\n",
      "d1_mbp_max 0\n",
      "d1_mbp_min 0\n",
      "d1_mbp_noninvasive_max 0\n",
      "d1_mbp_noninvasive_min 0\n",
      "d1_resprate_max 0\n",
      "d1_resprate_min 0\n",
      "d1_spo2_max 0\n",
      "d1_spo2_min 0\n",
      "d1_sysbp_invasive_max 0\n",
      "d1_sysbp_invasive_min 0\n",
      "d1_sysbp_max 0\n",
      "d1_sysbp_min 0\n",
      "d1_sysbp_noninvasive_max 0\n",
      "d1_sysbp_noninvasive_min 0\n",
      "d1_temp_max 0\n",
      "d1_temp_min 0\n",
      "h1_diasbp_invasive_max 0\n",
      "h1_diasbp_invasive_min 0\n",
      "h1_diasbp_max 0\n",
      "h1_diasbp_min 0\n",
      "h1_diasbp_noninvasive_max 0\n",
      "h1_diasbp_noninvasive_min 0\n",
      "h1_heartrate_max 0\n",
      "h1_heartrate_min 0\n",
      "h1_mbp_invasive_max 0\n",
      "h1_mbp_invasive_min 0\n",
      "h1_mbp_max 0\n",
      "h1_mbp_min 0\n",
      "h1_mbp_noninvasive_max 0\n",
      "h1_mbp_noninvasive_min 0\n",
      "h1_resprate_max 0\n",
      "h1_resprate_min 0\n",
      "h1_spo2_max 0\n",
      "h1_spo2_min 0\n",
      "h1_sysbp_invasive_max 0\n",
      "h1_sysbp_invasive_min 0\n",
      "h1_sysbp_max 0\n",
      "h1_sysbp_min 0\n",
      "h1_sysbp_noninvasive_max 0\n",
      "h1_sysbp_noninvasive_min 0\n",
      "h1_temp_max 0\n",
      "h1_temp_min 0\n",
      "d1_albumin_max 0\n",
      "d1_albumin_min 0\n",
      "d1_bilirubin_max 0\n",
      "d1_bilirubin_min 0\n",
      "d1_bun_max 0\n",
      "d1_bun_min 0\n",
      "d1_calcium_max 0\n",
      "d1_calcium_min 0\n",
      "d1_creatinine_max 0\n",
      "d1_creatinine_min 0\n",
      "d1_glucose_max 0\n",
      "d1_glucose_min 0\n",
      "d1_hco3_max 0\n",
      "d1_hco3_min 0\n",
      "d1_hemaglobin_max 0\n",
      "d1_hemaglobin_min 0\n",
      "d1_hematocrit_max 0\n",
      "d1_hematocrit_min 0\n",
      "d1_inr_max 0\n",
      "d1_inr_min 0\n",
      "d1_lactate_max 0\n",
      "d1_lactate_min 0\n",
      "d1_platelets_max 0\n",
      "d1_platelets_min 0\n",
      "d1_potassium_max 0\n",
      "d1_potassium_min 0\n",
      "d1_sodium_max 0\n",
      "d1_sodium_min 0\n",
      "d1_wbc_max 0\n",
      "d1_wbc_min 0\n",
      "h1_albumin_max 0\n",
      "h1_albumin_min 0\n",
      "h1_bilirubin_max 0\n",
      "h1_bilirubin_min 0\n",
      "h1_bun_max 0\n",
      "h1_bun_min 0\n",
      "h1_calcium_max 0\n",
      "h1_calcium_min 0\n",
      "h1_creatinine_max 0\n",
      "h1_creatinine_min 0\n",
      "h1_glucose_max 0\n",
      "h1_glucose_min 0\n",
      "h1_hco3_max 0\n",
      "h1_hco3_min 0\n",
      "h1_hemaglobin_max 0\n",
      "h1_hemaglobin_min 0\n",
      "h1_hematocrit_max 0\n",
      "h1_hematocrit_min 0\n",
      "h1_inr_max 0\n",
      "h1_inr_min 0\n",
      "h1_lactate_max 0\n",
      "h1_lactate_min 0\n",
      "h1_platelets_max 0\n",
      "h1_platelets_min 0\n",
      "h1_potassium_max 0\n",
      "h1_potassium_min 0\n",
      "h1_sodium_max 0\n",
      "h1_sodium_min 0\n",
      "h1_wbc_max 0\n",
      "h1_wbc_min 0\n",
      "d1_arterial_pco2_max 0\n",
      "d1_arterial_pco2_min 0\n",
      "d1_arterial_ph_max 0\n",
      "d1_arterial_ph_min 0\n",
      "d1_arterial_po2_max 0\n",
      "d1_arterial_po2_min 0\n",
      "d1_pao2fio2ratio_max 0\n",
      "d1_pao2fio2ratio_min 0\n",
      "h1_arterial_pco2_max 0\n",
      "h1_arterial_pco2_min 0\n",
      "h1_arterial_ph_max 0\n",
      "h1_arterial_ph_min 0\n",
      "h1_arterial_po2_max 0\n",
      "h1_arterial_po2_min 0\n",
      "h1_pao2fio2ratio_max 0\n",
      "h1_pao2fio2ratio_min 0\n",
      "apache_4a_hospital_death_prob 7947\n",
      "apache_4a_icu_death_prob 7947\n",
      "aids 715\n",
      "cirrhosis 715\n",
      "diabetes_mellitus 715\n",
      "hepatic_failure 715\n",
      "immunosuppression 715\n",
      "leukemia 715\n",
      "lymphoma 715\n",
      "solid_tumor_with_metastasis 715\n",
      "apache_3j_bodysystem 1662\n",
      "apache_2_bodysystem 1662\n"
     ]
    }
   ],
   "source": [
    "for c, v in zip(cols2, val2):\n",
    "    print(c, v)"
   ]
  },
  {
   "cell_type": "code",
   "execution_count": 10,
   "metadata": {},
   "outputs": [],
   "source": [
    "test['age'].fillna(test['age'].mean(), inplace = True)\n",
    "test['bmi'].fillna(test['bmi'].median(), inplace = True)\n",
    "test['ethnicity'].fillna(test['ethnicity'].mode()[0], inplace = True)\n",
    "test['weight'].fillna(test['weight'].median(), inplace = True)\n",
    "test['height'].fillna(test['height'].median(), inplace = True)\n",
    "test['gender'].fillna(test['gender'].mode()[0], inplace = True)"
   ]
  },
  {
   "cell_type": "code",
   "execution_count": 11,
   "metadata": {},
   "outputs": [],
   "source": [
    "for i in range(41,169,1):\n",
    "    test.iloc[:,i] = test.iloc[:,i].fillna(0)"
   ]
  },
  {
   "cell_type": "code",
   "execution_count": 12,
   "metadata": {},
   "outputs": [],
   "source": [
    "cat_cols = ['gcs_verbal_apache',\n",
    "     'icu_admit_source',\n",
    "     'icu_type',\n",
    "     'icu_stay_type',\n",
    "     'ethnicity',\n",
    "     'gender',\n",
    "     'apache_2_bodysystem',\n",
    "     'gcs_eyes_apache',\n",
    "     'gcs_motor_apache',\n",
    "     'apache_3j_bodysystem']"
   ]
  },
  {
   "cell_type": "code",
   "execution_count": 13,
   "metadata": {},
   "outputs": [],
   "source": [
    "for col in cat_cols:\n",
    "    train[col] = pd.get_dummies(train[[col]])\n",
    "    test[col] = pd.get_dummies(test[[col]])"
   ]
  },
  {
   "cell_type": "markdown",
   "metadata": {},
   "source": [
    "# Training Model"
   ]
  },
  {
   "cell_type": "code",
   "execution_count": 14,
   "metadata": {},
   "outputs": [],
   "source": [
    "import numpy as np\n",
    "from sklearn.impute import SimpleImputer\n",
    "from sklearn.metrics import accuracy_score\n",
    "from sklearn.model_selection import train_test_split\n",
    "from sklearn.ensemble import RandomForestClassifier, GradientBoostingClassifier, VotingClassifier"
   ]
  },
  {
   "cell_type": "code",
   "execution_count": 15,
   "metadata": {},
   "outputs": [],
   "source": [
    "train = train.dropna()\n",
    "y = train[target]\n",
    "X = train.drop(['hospital_admit_source'], axis=1)\n",
    "X = X.drop(target, axis=1)\n",
    "\n",
    "X_train, valid_features, Y_train, valid_y = train_test_split(X, y, test_size = 0.25, random_state = 1)"
   ]
  },
  {
   "cell_type": "code",
   "execution_count": 16,
   "metadata": {},
   "outputs": [],
   "source": [
    "gradient_boost = GradientBoostingClassifier(random_state=1)\n",
    "random_forest = RandomForestClassifier(n_estimators=100)\n",
    "\n",
    "voting = VotingClassifier(estimators=[('rfc', random_forest),('gbc', gradient_boost)], voting='soft')\n",
    "voting = voting.fit(X_train, Y_train)\n",
    "predict_y = voting.predict(valid_features)"
   ]
  },
  {
   "cell_type": "code",
   "execution_count": 48,
   "metadata": {},
   "outputs": [],
   "source": [
    "# test = test.dropna()\n",
    "# test['leukemia'].fillna(test['leukemia'].mode()[0], inplace = True)\n",
    "# test['lymphoma'].fillna(test['lymphoma'].mode()[0], inplace = True)\n",
    "# test['albumin_apache'].fillna(test['lymphoma'].mode()[0], inplace = True)\n",
    "# test['apache_2_diagnosis'].fillna(test['lymphoma'].mode()[0], inplace = True)\n",
    "# test['apache_3j_diagnosis'].fillna(test['lymphoma'].mode()[0], inplace = True)\n",
    "# test['arf_apache'].fillna(test['lymphoma'].mode()[0], inplace = True)\n",
    "# test['bilirubin_apache'].fillna(test['lymphoma'].mode()[0], inplace = True)\n",
    "# test['solid_tumor_with_metastasis'].fillna(test['solid_tumor_with_metastasis'].mode()[0], inplace = True)\n",
    "\n",
    "for col in test.columns:\n",
    "    if test[col].isnull().any().sum():\n",
    "        test[col].fillna(test[col].mode()[0], inplace=True)\n",
    "\n",
    "# # test = test.drop(['hospital_admit_source'], axis=1)\n",
    "\n",
    "# test_copy = test.copy()\n",
    "# test_copy[\"hospital_death\"] = voting.predict(test)\n",
    "\n",
    "# test_copy[[\"encounter_id\",\"hospital_death\"]].to_csv(\"submission1.csv\",index=False)\n",
    "# test_copy[[\"encounter_id\",\"hospital_death\"]].head()"
   ]
  },
  {
   "cell_type": "code",
   "execution_count": null,
   "metadata": {},
   "outputs": [],
   "source": [
    "test_copy['hospital_death'].to_csv(\"submission1.csv\", index=True, index_label='encounter_id')"
   ]
  },
  {
   "cell_type": "code",
   "execution_count": 49,
   "metadata": {},
   "outputs": [
    {
     "data": {
      "text/plain": [
       "Index([], dtype='object')"
      ]
     },
     "execution_count": 49,
     "metadata": {},
     "output_type": "execute_result"
    }
   ],
   "source": [
    "test.columns[test.isnull().any()]"
   ]
  },
  {
   "cell_type": "code",
   "execution_count": null,
   "metadata": {},
   "outputs": [],
   "source": []
  },
  {
   "cell_type": "code",
   "execution_count": null,
   "metadata": {},
   "outputs": [],
   "source": []
  }
 ],
 "metadata": {
  "kernelspec": {
   "display_name": "Python 3",
   "language": "python",
   "name": "python3"
  },
  "language_info": {
   "codemirror_mode": {
    "name": "ipython",
    "version": 3
   },
   "file_extension": ".py",
   "mimetype": "text/x-python",
   "name": "python",
   "nbconvert_exporter": "python",
   "pygments_lexer": "ipython3",
   "version": "3.7.3"
  }
 },
 "nbformat": 4,
 "nbformat_minor": 4
}
